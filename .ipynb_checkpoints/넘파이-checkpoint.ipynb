{
 "cells": [
  {
   "cell_type": "markdown",
   "id": "e46ad11e-237a-490e-9697-00fee3d0989f",
   "metadata": {},
   "source": [
    "NumPy : Numerical Python의 준말\n",
    "파이썬에서 산술 곗간을 위한 가장 중요한 필수 패키지 중 하나이다.\n",
    "과학 계산을 위한 대부분의 패키지는 넘파이의 배열 객체를 데이터 교환을 위한 공통 언어처럼 사용한다.\n",
    "\n",
    "넘파이에서 제공하는 기능\n",
    "- 빠른 배열 계산과 유연한 브로드캐스팅 기능을 제공하는 효율적인 다차원 배열인 ndarray\n",
    "- 반복문을 작성할 필요 없이 전체 데이터 배열을 빠르게 계산하는 표준 수학 함수\n",
    "- 배열 데이터를 디스크에 쓰거나 읽을 수 있는 도구와 메모리에 적재된 파일을 다루는 도구\n",
    "- 선형대수, 난수 생성기, 푸리에 변환 기능\n",
    "- C, C++, 포트란으로 작성된 코드를 넘파이와 연결하는 API"
   ]
  },
  {
   "cell_type": "markdown",
   "id": "c413a0b8-6387-47bc-9d2a-6580adf15488",
   "metadata": {},
   "source": [
    "### 다차원 배열 객체 ndarray\n",
    "   \n",
    "ndarray는 파이썬에서 사용할 수 있는 대규모 데이터셋을 담을 수 있는 빠르고 유연한 자료구조이다.\n",
    "배열을 사용하면 스칼라 원소 간의 연산에 사용하는 문법과 비슷한 방식을 사용해 전체 데이터 블록에 수학적 연산을 수행할 수 있다."
   ]
  },
  {
   "cell_type": "code",
   "execution_count": 2,
   "id": "a8b000f4-c49e-45c7-bbb7-43ff49a90ae4",
   "metadata": {},
   "outputs": [
    {
     "data": {
      "text/plain": [
       "array([[ 1.5, -0.1,  3. ],\n",
       "       [ 0. , -3. ,  6.5]])"
      ]
     },
     "execution_count": 2,
     "metadata": {},
     "output_type": "execute_result"
    }
   ],
   "source": [
    "import numpy as np\n",
    "\n",
    "data = np.array([[1.5, -0.1, 3], [0, -3, 6.5]])\n",
    "data"
   ]
  },
  {
   "cell_type": "code",
   "execution_count": 3,
   "id": "acc76e68-2967-4ec8-acd6-fe86aff0cb78",
   "metadata": {},
   "outputs": [
    {
     "data": {
      "text/plain": [
       "array([[ 15.,  -1.,  30.],\n",
       "       [  0., -30.,  65.]])"
      ]
     },
     "execution_count": 3,
     "metadata": {},
     "output_type": "execute_result"
    }
   ],
   "source": [
    "# 산술 연산을 수행\n",
    "data * 10"
   ]
  },
  {
   "cell_type": "code",
   "execution_count": 4,
   "id": "2ad595e2-00ff-4167-914a-c37f1b9c24cb",
   "metadata": {},
   "outputs": [
    {
     "data": {
      "text/plain": [
       "array([[ 3. , -0.2,  6. ],\n",
       "       [ 0. , -6. , 13. ]])"
      ]
     },
     "execution_count": 4,
     "metadata": {},
     "output_type": "execute_result"
    }
   ],
   "source": [
    "data + data"
   ]
  },
  {
   "cell_type": "markdown",
   "id": "d11f7188-b05b-40cc-ab7a-6e7428fcf953",
   "metadata": {},
   "source": [
    "- ndarray는 같은 종류의 데이터를 담을 수 있는 포괄적인 다차원 배열이다.\n",
    "- ndarray의 모든 원소는 같은 자료형이어야 한다.\n",
    "- 모든 배열은 각 차원의 크기를 알려주는 shape 튜플과 배열에 저장된 자료형을 알려주는 dtype 객체를 갖는다."
   ]
  },
  {
   "cell_type": "code",
   "execution_count": 5,
   "id": "1b58f729-abee-44b9-9b46-266f82b26295",
   "metadata": {},
   "outputs": [
    {
     "data": {
      "text/plain": [
       "(2, 3)"
      ]
     },
     "execution_count": 5,
     "metadata": {},
     "output_type": "execute_result"
    }
   ],
   "source": [
    "data.shape"
   ]
  },
  {
   "cell_type": "code",
   "execution_count": 6,
   "id": "75b2a15c-280c-4160-8dca-a834ca951356",
   "metadata": {},
   "outputs": [
    {
     "data": {
      "text/plain": [
       "dtype('float64')"
      ]
     },
     "execution_count": 6,
     "metadata": {},
     "output_type": "execute_result"
    }
   ],
   "source": [
    "data.dtype"
   ]
  },
  {
   "cell_type": "markdown",
   "id": "f92c9865-7210-4d1b-bd99-6a750ee65d7a",
   "metadata": {},
   "source": [
    "### ndarray 생성하기\n",
    "- 배열을 생성하는 가장 쉬운 방법은 array 함수를 이용하는 것이다.\n",
    "- 순차적인 객체(다른 배열도 포함해)를 받아서 넘겨받은 데이터가 들어 있는 새로운 넘파이 배열을 생성한다."
   ]
  },
  {
   "cell_type": "code",
   "execution_count": 7,
   "id": "1a31784c-1b00-487a-af74-d0b916dd412e",
   "metadata": {},
   "outputs": [
    {
     "data": {
      "text/plain": [
       "array([6. , 7.5, 8. , 0. , 1. ])"
      ]
     },
     "execution_count": 7,
     "metadata": {},
     "output_type": "execute_result"
    }
   ],
   "source": [
    "# 파이썬 리스트는 배열로 변환하기 좋은 예이다.\n",
    "data1 = [6, 7.5, 8, 0, 1]\n",
    "arr1 = np.array(data1)\n",
    "arr1"
   ]
  },
  {
   "cell_type": "code",
   "execution_count": 8,
   "id": "49c992a4-f876-4d60-9d9d-9f3bc7ea0991",
   "metadata": {},
   "outputs": [
    {
     "data": {
      "text/plain": [
       "array([[1, 2, 3, 4],\n",
       "       [5, 6, 7, 8]])"
      ]
     },
     "execution_count": 8,
     "metadata": {},
     "output_type": "execute_result"
    }
   ],
   "source": [
    "# 리스트 길이가 동일한 중첩된 순차 데이터는 다차원 배열로 변환 가능하다.\n",
    "data2 = [[1, 2, 3, 4], [5, 6, 7, 8]]\n",
    "arr2 = np.array(data2)\n",
    "arr2"
   ]
  },
  {
   "cell_type": "code",
   "execution_count": 9,
   "id": "5bdf8571-20a9-474f-9769-37f7545df247",
   "metadata": {},
   "outputs": [
    {
     "data": {
      "text/plain": [
       "2"
      ]
     },
     "execution_count": 9,
     "metadata": {},
     "output_type": "execute_result"
    }
   ],
   "source": [
    "# data2는 리스트를 담고 있는 리스트(중첩 리스트)이므로 \n",
    "# 넘파이인 arr2는 해당 데이터로부터 형태를 추론해 2차원 형태로 생성한다.\n",
    "# ndim과 shape 속서을 검사행서 이를 확인할 수 있다.\n",
    "arr2.ndim    # 배열의 차원"
   ]
  },
  {
   "cell_type": "code",
   "execution_count": 10,
   "id": "e982792f-1235-4fcc-9571-7da311b43141",
   "metadata": {},
   "outputs": [
    {
     "data": {
      "text/plain": [
       "(2, 4)"
      ]
     },
     "execution_count": 10,
     "metadata": {},
     "output_type": "execute_result"
    }
   ],
   "source": [
    "arr2.shape   # 매열의 모양"
   ]
  },
  {
   "cell_type": "code",
   "execution_count": 11,
   "id": "b2fc4c5d-3dd1-4fe8-8851-ba3012ebe531",
   "metadata": {},
   "outputs": [
    {
     "data": {
      "text/plain": [
       "dtype('float64')"
      ]
     },
     "execution_count": 11,
     "metadata": {},
     "output_type": "execute_result"
    }
   ],
   "source": [
    "# 명시적으로 지정하지 않는 한 numpy.array는 생성될 때 적절한 자료형을 추론한다.\n",
    "# 추론된 자료형은 dtype 객체에 저장된다.\n",
    "arr1.dtype"
   ]
  },
  {
   "cell_type": "code",
   "execution_count": 12,
   "id": "a261b025-1f3d-49f8-9f5c-111949f9417f",
   "metadata": {},
   "outputs": [
    {
     "data": {
      "text/plain": [
       "dtype('int32')"
      ]
     },
     "execution_count": 12,
     "metadata": {},
     "output_type": "execute_result"
    }
   ],
   "source": [
    "arr2.dtype"
   ]
  },
  {
   "cell_type": "code",
   "execution_count": 13,
   "id": "c7910184-2844-4645-a222-e3c9dceb7d80",
   "metadata": {},
   "outputs": [
    {
     "data": {
      "text/plain": [
       "array([0., 0., 0., 0., 0., 0., 0., 0., 0., 0.])"
      ]
     },
     "execution_count": 13,
     "metadata": {},
     "output_type": "execute_result"
    }
   ],
   "source": [
    "# numpy.array는 새로운 배열을 생성하는 여러 함수를 가지고 있다.\n",
    "# zeros와 ones는 주어진 길이나 모양에 각가 0과 1이 들어 있는 배열을 생성한다.\n",
    "# empty 함수는 초기화되지 않은 배열을 생성한다.\n",
    "# 이러한 메서드를 사용해서 다차원 배열을 생성하려면 원하는 형태의 튜플을 넘기면 된다.\n",
    "np.zeros(10)"
   ]
  },
  {
   "cell_type": "code",
   "execution_count": 14,
   "id": "5271aa98-9de0-4992-a8f9-da748b360724",
   "metadata": {},
   "outputs": [
    {
     "data": {
      "text/plain": [
       "array([[0., 0., 0., 0., 0., 0.],\n",
       "       [0., 0., 0., 0., 0., 0.],\n",
       "       [0., 0., 0., 0., 0., 0.]])"
      ]
     },
     "execution_count": 14,
     "metadata": {},
     "output_type": "execute_result"
    }
   ],
   "source": [
    "np.zeros((3, 6))"
   ]
  },
  {
   "cell_type": "code",
   "execution_count": 15,
   "id": "5f75f2fb-e552-4ebb-9493-7dc8cd27b442",
   "metadata": {},
   "outputs": [
    {
     "data": {
      "text/plain": [
       "array([[[1.34349584e-311, 2.81617418e-322],\n",
       "        [0.00000000e+000, 0.00000000e+000],\n",
       "        [3.44902066e-307, 1.04082753e-047]],\n",
       "\n",
       "       [[4.71194767e-090, 4.27629918e-033],\n",
       "        [8.26793620e-072, 2.63182161e-052],\n",
       "        [6.48224660e+170, 4.93432906e+257]]])"
      ]
     },
     "execution_count": 15,
     "metadata": {},
     "output_type": "execute_result"
    }
   ],
   "source": [
    "# numpy.empty 초기화되지 않은 메모리를 반환하므로 0이 아닌 가비지(gabage) 값을 포함할 수 있다.\n",
    "# 데이터를 새로 채우기 위해 배열을 생성하는 경우에만 이 함수를 사용해야 한다.\n",
    "np.empty((2, 3, 2))"
   ]
  },
  {
   "cell_type": "code",
   "execution_count": 16,
   "id": "cd740206-6062-4ed0-a2db-08f95b263085",
   "metadata": {},
   "outputs": [
    {
     "data": {
      "text/plain": [
       "array([ 0,  1,  2,  3,  4,  5,  6,  7,  8,  9, 10, 11, 12, 13, 14])"
      ]
     },
     "execution_count": 16,
     "metadata": {},
     "output_type": "execute_result"
    }
   ],
   "source": [
    "# arange는 파이썬의 range 함수의 배열 버전이다.\n",
    "np.arange(15)"
   ]
  },
  {
   "cell_type": "markdown",
   "id": "385c3f5a-28d4-40b2-8bd1-23604dc05984",
   "metadata": {},
   "source": [
    "### ndarray의 자료형\n",
    "- 자료형(dtype)은 ndarray가 메모리에 있는 \n",
    "- 특정 데이터를 해석하는 데 필요한 정보(또는 메타데이터)를 담고 있는 특수한 객체이다."
   ]
  },
  {
   "cell_type": "code",
   "execution_count": 17,
   "id": "0889bc8f-6988-4786-b223-07cacc763050",
   "metadata": {},
   "outputs": [
    {
     "data": {
      "text/plain": [
       "dtype('float64')"
      ]
     },
     "execution_count": 17,
     "metadata": {},
     "output_type": "execute_result"
    }
   ],
   "source": [
    "arr1 = np.array([1, 2, 3], dtype=np.float64)   # dtype='float64'\n",
    "arr2 = np.array([1, 2, 3], dtype=np.int32)     # dtype='int32'\n",
    "arr1.dtype"
   ]
  },
  {
   "cell_type": "code",
   "execution_count": 18,
   "id": "b627f8d3-c450-4bd4-a434-8db20f84310e",
   "metadata": {},
   "outputs": [
    {
     "data": {
      "text/plain": [
       "dtype('int32')"
      ]
     },
     "execution_count": 18,
     "metadata": {},
     "output_type": "execute_result"
    }
   ],
   "source": [
    "arr2.dtype"
   ]
  },
  {
   "cell_type": "code",
   "execution_count": 19,
   "id": "c2a4a41a-a808-48ee-991a-eaea620300a2",
   "metadata": {},
   "outputs": [
    {
     "data": {
      "text/plain": [
       "dtype('int32')"
      ]
     },
     "execution_count": 19,
     "metadata": {},
     "output_type": "execute_result"
    }
   ],
   "source": [
    "# ndarray의 astype 메서드를 사용해 배열의 dtype을 다른 형으로 명시적으로 변환(cast) 가능하다.\n",
    "# 다음 예제는 정수형을 부동소수점으로 변환한다.\n",
    "arr = np.array([1, 2, 3, 4, 5])\n",
    "arr.dtype"
   ]
  },
  {
   "cell_type": "code",
   "execution_count": 20,
   "id": "419cbd56-9f2c-4a3f-be92-52a10506f1c8",
   "metadata": {},
   "outputs": [
    {
     "data": {
      "text/plain": [
       "array([1., 2., 3., 4., 5.])"
      ]
     },
     "execution_count": 20,
     "metadata": {},
     "output_type": "execute_result"
    }
   ],
   "source": [
    "float_arr = arr.astype(np.float64)\n",
    "float_arr"
   ]
  },
  {
   "cell_type": "code",
   "execution_count": 21,
   "id": "e9f2e51b-9e95-4f16-9ed9-ce2b2b33ffce",
   "metadata": {},
   "outputs": [
    {
     "data": {
      "text/plain": [
       "dtype('float64')"
      ]
     },
     "execution_count": 21,
     "metadata": {},
     "output_type": "execute_result"
    }
   ],
   "source": [
    "float_arr.dtype"
   ]
  },
  {
   "cell_type": "code",
   "execution_count": 22,
   "id": "6af7e793-e59b-406d-b230-44f152a4d288",
   "metadata": {},
   "outputs": [
    {
     "data": {
      "text/plain": [
       "array([ 3.7, -1.2, -2.6,  0.5, 12.9, 10.1])"
      ]
     },
     "execution_count": 22,
     "metadata": {},
     "output_type": "execute_result"
    }
   ],
   "source": [
    "# 부동소수점을 정수형으로 변환하면 소수점 아래 자리는 버려진다.\n",
    "arr = np.array([3.7, -1.2, -2.6, 0.5, 12.9, 10.1])\n",
    "arr"
   ]
  },
  {
   "cell_type": "code",
   "execution_count": 23,
   "id": "18f77552-96dd-4908-ad20-26f0e4781634",
   "metadata": {},
   "outputs": [
    {
     "data": {
      "text/plain": [
       "array([ 3, -1, -2,  0, 12, 10])"
      ]
     },
     "execution_count": 23,
     "metadata": {},
     "output_type": "execute_result"
    }
   ],
   "source": [
    "arr.astype(np.int32)"
   ]
  },
  {
   "cell_type": "code",
   "execution_count": 24,
   "id": "e8701813-d5df-468c-b34e-a1a9bb2cb4b8",
   "metadata": {},
   "outputs": [
    {
     "data": {
      "text/plain": [
       "array([ 1.25, -9.6 , 42.  ])"
      ]
     },
     "execution_count": 24,
     "metadata": {},
     "output_type": "execute_result"
    }
   ],
   "source": [
    "# 숫자 형식의 문자열을 담고 있는 배열이면 astyhpe을 사용해 숫자로 변환할 수 있다.\n",
    "numeric_strings = np.array(['1.25', '-9.6', '42'], dtype=np.string_)\n",
    "numeric_strings.astype(float)\n",
    "# 넘파이에서는 문자열 데이터는 고정 크기를 가지며 별다른 경고를 출력하지 않고 입력을 임의로 잘라낼 수 있으므로\n",
    "# numpy.string_형을 이용할 때는 주의해야 한다."
   ]
  },
  {
   "cell_type": "code",
   "execution_count": 25,
   "id": "a0e94f9c-682e-4633-9564-066920ea4df7",
   "metadata": {},
   "outputs": [
    {
     "data": {
      "text/plain": [
       "array([0., 1., 2., 3., 4., 5., 6., 7., 8., 9.])"
      ]
     },
     "execution_count": 25,
     "metadata": {},
     "output_type": "execute_result"
    }
   ],
   "source": [
    "# 문자열이 float64로 변환되지 않는 경우 형 변환에 실패하면 ValueError가 발생한다.\n",
    "# 똑똑한 넘파이는 파이썬 자료형을 알맞은 dtype으로 맞춰준다.\n",
    "int_array = np.arange(10)\n",
    "calibers = np.array([.22, .270, .357, .380, .44, .50], dtype=np.float64)\n",
    "int_array.astype(calibers.dtype)"
   ]
  },
  {
   "cell_type": "code",
   "execution_count": 26,
   "id": "a3a41d87-bd62-44b6-b996-98217dbbcd6e",
   "metadata": {},
   "outputs": [
    {
     "data": {
      "text/plain": [
       "array([0, 0, 0, 0, 0, 0, 0, 0], dtype=uint32)"
      ]
     },
     "execution_count": 26,
     "metadata": {},
     "output_type": "execute_result"
    }
   ],
   "source": [
    "# dtype으로 사용할 수 있는 축약 코드도 있다.\n",
    "zeros_uint32 = np.zeros(8, dtype='u4')\n",
    "zeros_uint32"
   ]
  },
  {
   "cell_type": "markdown",
   "id": "517becc9-7d98-4932-bb67-213150c262a4",
   "metadata": {},
   "source": [
    "### 넘파이 배열의 산술 연산\n",
    "- 배열은 for 문을 작성하지 않고 데이터를 일괄 처리할 수 있어 매우 중요하다.\n",
    "- 이를 벡터화(vectorization)라고 부르며 크기가 동일한 배열 간의 산술 연산은 배열의 각 원소 단위로 적용된다."
   ]
  },
  {
   "cell_type": "code",
   "execution_count": 27,
   "id": "55b7c5b3-e2f9-4c83-8332-bb05807e0148",
   "metadata": {},
   "outputs": [
    {
     "data": {
      "text/plain": [
       "array([[1., 2., 3.],\n",
       "       [4., 5., 6.]])"
      ]
     },
     "execution_count": 27,
     "metadata": {},
     "output_type": "execute_result"
    }
   ],
   "source": [
    "arr = np.array([[1., 2., 3.], [4., 5., 6.]])\n",
    "arr"
   ]
  },
  {
   "cell_type": "code",
   "execution_count": 28,
   "id": "c852400a-b8ca-42b3-9bdf-dbcf3ba4117d",
   "metadata": {},
   "outputs": [
    {
     "data": {
      "text/plain": [
       "array([[ 1.,  4.,  9.],\n",
       "       [16., 25., 36.]])"
      ]
     },
     "execution_count": 28,
     "metadata": {},
     "output_type": "execute_result"
    }
   ],
   "source": [
    "arr * arr"
   ]
  },
  {
   "cell_type": "code",
   "execution_count": 29,
   "id": "be7bc947-9954-4000-a40f-9d434ea1154f",
   "metadata": {},
   "outputs": [
    {
     "data": {
      "text/plain": [
       "array([[0., 0., 0.],\n",
       "       [0., 0., 0.]])"
      ]
     },
     "execution_count": 29,
     "metadata": {},
     "output_type": "execute_result"
    }
   ],
   "source": [
    "arr - arr"
   ]
  },
  {
   "cell_type": "code",
   "execution_count": 30,
   "id": "3949726c-cdf7-4373-876d-d85f5568ca70",
   "metadata": {},
   "outputs": [
    {
     "data": {
      "text/plain": [
       "array([[1.        , 0.5       , 0.33333333],\n",
       "       [0.25      , 0.2       , 0.16666667]])"
      ]
     },
     "execution_count": 30,
     "metadata": {},
     "output_type": "execute_result"
    }
   ],
   "source": [
    "# 스칼라 인수가 포함된 산술 연산의 경우 배열 내의 모든 원소가 스칼라 인수가 적용된다.\n",
    "1 / arr"
   ]
  },
  {
   "cell_type": "code",
   "execution_count": 31,
   "id": "96b7af62-e050-40e9-a37a-79d846e95309",
   "metadata": {},
   "outputs": [
    {
     "data": {
      "text/plain": [
       "array([[ 1.,  4.,  9.],\n",
       "       [16., 25., 36.]])"
      ]
     },
     "execution_count": 31,
     "metadata": {},
     "output_type": "execute_result"
    }
   ],
   "source": [
    "arr ** 2"
   ]
  },
  {
   "cell_type": "code",
   "execution_count": 32,
   "id": "9daaf544-7b0b-495f-8c32-1a75c4531935",
   "metadata": {},
   "outputs": [
    {
     "data": {
      "text/plain": [
       "array([[ 0.,  4.,  1.],\n",
       "       [ 7.,  2., 12.]])"
      ]
     },
     "execution_count": 32,
     "metadata": {},
     "output_type": "execute_result"
    }
   ],
   "source": [
    "# 크기가 동일한 배열 간의 비교 연산은 불리언 배열을 반환한다.\n",
    "arr2 = np.array([[0., 4., 1.], [7., 2., 12.]])\n",
    "arr2"
   ]
  },
  {
   "cell_type": "code",
   "execution_count": 33,
   "id": "52dd6a5a-92e1-4e57-bb33-911d56c12297",
   "metadata": {},
   "outputs": [
    {
     "data": {
      "text/plain": [
       "array([[False,  True, False],\n",
       "       [ True, False,  True]])"
      ]
     },
     "execution_count": 33,
     "metadata": {},
     "output_type": "execute_result"
    }
   ],
   "source": [
    "arr2 > arr"
   ]
  },
  {
   "cell_type": "markdown",
   "id": "d3662ab0-705b-4e69-a74e-5b1446821595",
   "metadata": {},
   "source": [
    "### 색인과 슬라이싱\n",
    "- 1차원 배열은 표면적으로 파이썬 리스트와 유사하게 작동한다."
   ]
  },
  {
   "cell_type": "code",
   "execution_count": 34,
   "id": "4a51338c-962a-4e94-8d68-baee165b7a8b",
   "metadata": {},
   "outputs": [
    {
     "data": {
      "text/plain": [
       "array([0, 1, 2, 3, 4, 5, 6, 7, 8, 9])"
      ]
     },
     "execution_count": 34,
     "metadata": {},
     "output_type": "execute_result"
    }
   ],
   "source": [
    "arr = np.arange(10)\n",
    "arr"
   ]
  },
  {
   "cell_type": "code",
   "execution_count": 35,
   "id": "55d6655f-1c26-42b3-a9da-60f44237ae7a",
   "metadata": {},
   "outputs": [
    {
     "data": {
      "text/plain": [
       "5"
      ]
     },
     "execution_count": 35,
     "metadata": {},
     "output_type": "execute_result"
    }
   ],
   "source": [
    "arr[5]"
   ]
  },
  {
   "cell_type": "code",
   "execution_count": 36,
   "id": "62ec8284-c3d4-40a3-87b8-0ea0bddc2d3c",
   "metadata": {},
   "outputs": [
    {
     "data": {
      "text/plain": [
       "array([5, 6, 7])"
      ]
     },
     "execution_count": 36,
     "metadata": {},
     "output_type": "execute_result"
    }
   ],
   "source": [
    "arr[5:8]"
   ]
  },
  {
   "cell_type": "code",
   "execution_count": 41,
   "id": "1ae1ee87-b056-41a7-9694-81a685175895",
   "metadata": {},
   "outputs": [
    {
     "data": {
      "text/plain": [
       "array([ 0,  1,  2,  3,  4, 12, 12, 12,  8,  9])"
      ]
     },
     "execution_count": 41,
     "metadata": {},
     "output_type": "execute_result"
    }
   ],
   "source": [
    "# arr[5:8] = 12로 배열 슬라이스에 스칼라 값을 대입하면 12가 선택 영역 전체로 전파(브로드캐스팅)된다.\n",
    "arr[5:8] = 12\n",
    "arr"
   ]
  },
  {
   "cell_type": "code",
   "execution_count": 44,
   "id": "2ca693cb-91fc-4eb6-881d-13a2b83b58e2",
   "metadata": {},
   "outputs": [
    {
     "data": {
      "text/plain": [
       "array([12, 12, 12])"
      ]
     },
     "execution_count": 44,
     "metadata": {},
     "output_type": "execute_result"
    }
   ],
   "source": [
    "# 파이썬에 내장된 리스트와 중요한 차이점은 배열 슬라이스가 원본 배열의 뷰(view)라는 점이다.\n",
    "# 즉, 데이터는 복사되지 않고 뷰에 대한 변경이 그대로 원본 배열에 반영된다는 의미이다.\n",
    "# 에에 대한 예제로 먼저 arr 배열의 슬라이스를 생성해보자.\n",
    "arr_slice = arr[5:8]\n",
    "arr_slice"
   ]
  },
  {
   "cell_type": "code",
   "execution_count": 45,
   "id": "bd561c28-a3c0-4c04-8425-2f1fe45e71ae",
   "metadata": {},
   "outputs": [
    {
     "data": {
      "text/plain": [
       "array([    0,     1,     2,     3,     4,    12, 12345,    12,     8,\n",
       "           9])"
      ]
     },
     "execution_count": 45,
     "metadata": {},
     "output_type": "execute_result"
    }
   ],
   "source": [
    "# arr_slice의 값을 변경하면 원래 배열인 arr의 값도 바뀌어 있음을 확인할 수 있다.\n",
    "arr_slice[1] = 12345\n",
    "arr"
   ]
  },
  {
   "cell_type": "code",
   "execution_count": 46,
   "id": "1c9ec46e-458f-4d70-b1b3-588b8622494d",
   "metadata": {},
   "outputs": [
    {
     "data": {
      "text/plain": [
       "array([ 0,  1,  2,  3,  4, 64, 64, 64,  8,  9])"
      ]
     },
     "execution_count": 46,
     "metadata": {},
     "output_type": "execute_result"
    }
   ],
   "source": [
    "# 단순히 [:]로 슬라이스하면 배열의 모든 값에 할당된다.\n",
    "arr_slice[:] = 64\n",
    "arr"
   ]
  },
  {
   "cell_type": "code",
   "execution_count": 47,
   "id": "fccef45e-8133-4eb7-8731-32982a9f4570",
   "metadata": {},
   "outputs": [],
   "source": [
    "# 넘파이는 대용량 데이터 처리를 염두에 두고 설계되었으므로 만약 넘파이가 데이터 복사를 남발한다면\n",
    "# 성능과 메모리 문제에 마주치게 될 것이다.\n",
    "# 만약 뷰가 아닌 ndarray 슬라이스의 복사본을 얻고 싶다면 arr[5:8].copy()로 명시적으로 배열을 복사해야 한다. 판다스도 마찬가지."
   ]
  },
  {
   "cell_type": "code",
   "execution_count": 48,
   "id": "147ab3e7-e01b-4a87-88fb-6c3fec9de79c",
   "metadata": {},
   "outputs": [
    {
     "data": {
      "text/plain": [
       "array([7, 8, 9])"
      ]
     },
     "execution_count": 48,
     "metadata": {},
     "output_type": "execute_result"
    }
   ],
   "source": [
    "# 다차원 배열을 다룰 때 좀 더 많은 옵션이 있다.\n",
    "# 2차원 배열에서 각 색인에 해당하는 원소는 스칼라 값이 아닌 1차원 배열이다.\n",
    "arr2d = np.array([[1, 2, 3], [4, 5, 6], [7, 8, 9]])\n",
    "arr2d[2]"
   ]
  },
  {
   "cell_type": "code",
   "execution_count": 49,
   "id": "19e234c4-17b8-42e6-b984-8c979b43b0dd",
   "metadata": {},
   "outputs": [
    {
     "data": {
      "text/plain": [
       "3"
      ]
     },
     "execution_count": 49,
     "metadata": {},
     "output_type": "execute_result"
    }
   ],
   "source": [
    "# 따라서 개별 원소는 재귀적으로 접근해야 한다.\n",
    "# 하지만 이는 매우 귀찮은 작업이므로 쉼표로 구분된 색인 리스트를 넘기면 된다.\n",
    "# 다음 두 표현은 동일하다.\n",
    "arr2d[0][2]"
   ]
  },
  {
   "cell_type": "code",
   "execution_count": 50,
   "id": "c898495a-4313-46a0-99e7-8b84df24c1a4",
   "metadata": {},
   "outputs": [
    {
     "data": {
      "text/plain": [
       "3"
      ]
     },
     "execution_count": 50,
     "metadata": {},
     "output_type": "execute_result"
    }
   ],
   "source": [
    "arr2d[0, 2]"
   ]
  },
  {
   "cell_type": "code",
   "execution_count": 55,
   "id": "77331792-b2b4-4dcc-b53e-59be2e3d31e7",
   "metadata": {},
   "outputs": [
    {
     "data": {
      "text/plain": [
       "array([[[ 1,  2,  3],\n",
       "        [ 4,  5,  6]],\n",
       "\n",
       "       [[ 7,  8,  9],\n",
       "        [10, 11, 12]]])"
      ]
     },
     "execution_count": 55,
     "metadata": {},
     "output_type": "execute_result"
    }
   ],
   "source": [
    "# 다차원 배열에서 마지막 색인을 생략하면 반환되는 객체는 상위 차원의 데이터를 모두 포함한 한 차원 낮은 ndarray 가 반환된다.\n",
    "# 2 x 2 x 3 크기의 배열 arr3d가 있다고 가정하자.\n",
    "arr3d = np.array([[[1, 2, 3], [4, 5, 6]], [[7, 8, 9], [10, 11, 12]]])\n",
    "arr3d"
   ]
  },
  {
   "cell_type": "code",
   "execution_count": 56,
   "id": "0ac1016e-fe6c-48f8-9690-e51a08db78f1",
   "metadata": {},
   "outputs": [
    {
     "data": {
      "text/plain": [
       "array([[1, 2, 3],\n",
       "       [4, 5, 6]])"
      ]
     },
     "execution_count": 56,
     "metadata": {},
     "output_type": "execute_result"
    }
   ],
   "source": [
    "# arr3d[0]은 2 x 3 크기의 배열이다.\n",
    "arr3d[0]"
   ]
  },
  {
   "cell_type": "code",
   "execution_count": 57,
   "id": "60bf8bbe-347a-45cd-af66-47a6bbbbfdae",
   "metadata": {},
   "outputs": [
    {
     "data": {
      "text/plain": [
       "array([[[42, 42, 42],\n",
       "        [42, 42, 42]],\n",
       "\n",
       "       [[ 7,  8,  9],\n",
       "        [10, 11, 12]]])"
      ]
     },
     "execution_count": 57,
     "metadata": {},
     "output_type": "execute_result"
    }
   ],
   "source": [
    "# arr3d[0]에는 스칼라 값과 배열 모두 할당할 수 있다.\n",
    "old_values = arr3d[0].copy()\n",
    "arr3d[0] = 42\n",
    "arr3d"
   ]
  },
  {
   "cell_type": "code",
   "execution_count": 58,
   "id": "134b8a2a-9ec9-4a49-ab60-ac800efeeaf3",
   "metadata": {},
   "outputs": [
    {
     "data": {
      "text/plain": [
       "array([[[ 1,  2,  3],\n",
       "        [ 4,  5,  6]],\n",
       "\n",
       "       [[ 7,  8,  9],\n",
       "        [10, 11, 12]]])"
      ]
     },
     "execution_count": 58,
     "metadata": {},
     "output_type": "execute_result"
    }
   ],
   "source": [
    "arr3d[0] = old_values\n",
    "arr3d"
   ]
  },
  {
   "cell_type": "code",
   "execution_count": 59,
   "id": "e5f26b3e-9931-4516-b38f-9880feaed1b0",
   "metadata": {},
   "outputs": [
    {
     "data": {
      "text/plain": [
       "array([7, 8, 9])"
      ]
     },
     "execution_count": 59,
     "metadata": {},
     "output_type": "execute_result"
    }
   ],
   "source": [
    "# 이런 방식으로 arr3d[1, 0]은 (1, 0)으로 색인되는 1차원 배열과 그 값을 반환한다.\n",
    "arr3d[1, 0]"
   ]
  },
  {
   "cell_type": "code",
   "execution_count": 60,
   "id": "5a09707b-ff8e-4e7e-bf9d-6ef8b98cd396",
   "metadata": {},
   "outputs": [
    {
     "data": {
      "text/plain": [
       "array([[ 7,  8,  9],\n",
       "       [10, 11, 12]])"
      ]
     },
     "execution_count": 60,
     "metadata": {},
     "output_type": "execute_result"
    }
   ],
   "source": [
    "# 이 표현은 다음처럼 두 번에 걸쳐 인덱싱한 결과와 동일하다.\n",
    "x = arr3d[1]\n",
    "x"
   ]
  },
  {
   "cell_type": "code",
   "execution_count": 61,
   "id": "27183f55-da20-4868-8f6b-4e7d369dfa46",
   "metadata": {},
   "outputs": [
    {
     "data": {
      "text/plain": [
       "array([7, 8, 9])"
      ]
     },
     "execution_count": 61,
     "metadata": {},
     "output_type": "execute_result"
    }
   ],
   "source": [
    "x[0]"
   ]
  },
  {
   "cell_type": "code",
   "execution_count": 62,
   "id": "887b5c05-2522-417d-b21d-7015fb8b1e00",
   "metadata": {},
   "outputs": [],
   "source": [
    "# 여기서 살펴본 선택된 배열의 부분집합은 모두 배열의 뷰를 반환한다는 점을 기억하자.\n",
    "# 넘파이 배열의 다차원 색인 구문은 리스트의 리스트 같은 일반적인 파이썬 객체에서는 작동하지 않는다."
   ]
  },
  {
   "cell_type": "code",
   "execution_count": 63,
   "id": "63166fef-3b6d-4429-aad5-eb6f361c4f32",
   "metadata": {},
   "outputs": [
    {
     "data": {
      "text/plain": [
       "array([ 0,  1,  2,  3,  4, 64, 64, 64,  8,  9])"
      ]
     },
     "execution_count": 63,
     "metadata": {},
     "output_type": "execute_result"
    }
   ],
   "source": [
    "# 슬라이스로 선택하기\n",
    "# 파이썬은 리스트 같은 1차원 객체처럼 ndarray도 익숙한 문법으로 슬라이싱할 수 있다.\n",
    "arr"
   ]
  },
  {
   "cell_type": "code",
   "execution_count": 64,
   "id": "50272dae-c0be-46f7-b0c3-a465f3b6b892",
   "metadata": {},
   "outputs": [
    {
     "data": {
      "text/plain": [
       "array([ 1,  2,  3,  4, 64])"
      ]
     },
     "execution_count": 64,
     "metadata": {},
     "output_type": "execute_result"
    }
   ],
   "source": [
    "arr[1:6]"
   ]
  },
  {
   "cell_type": "code",
   "execution_count": 65,
   "id": "126d9818-7ac2-4c35-a439-9ba7717623b3",
   "metadata": {},
   "outputs": [
    {
     "data": {
      "text/plain": [
       "array([[1, 2, 3],\n",
       "       [4, 5, 6],\n",
       "       [7, 8, 9]])"
      ]
     },
     "execution_count": 65,
     "metadata": {},
     "output_type": "execute_result"
    }
   ],
   "source": [
    "# 앞서 살펴본 2차원 배열 arr2d를 생가해보자. 이 배열을 슬라이싱하는 방법은 조금 다르다.\n",
    "arr2d"
   ]
  },
  {
   "cell_type": "code",
   "execution_count": 66,
   "id": "a886134b-376e-49ca-99d1-6984b0d66581",
   "metadata": {},
   "outputs": [
    {
     "data": {
      "text/plain": [
       "array([[1, 2, 3],\n",
       "       [4, 5, 6]])"
      ]
     },
     "execution_count": 66,
     "metadata": {},
     "output_type": "execute_result"
    }
   ],
   "source": [
    "arr2d[:2]"
   ]
  },
  {
   "cell_type": "code",
   "execution_count": 68,
   "id": "a9ae2c00-5da9-426c-bb52-955cc54202f1",
   "metadata": {},
   "outputs": [
    {
     "data": {
      "text/plain": [
       "array([[2, 3],\n",
       "       [5, 6]])"
      ]
     },
     "execution_count": 68,
     "metadata": {},
     "output_type": "execute_result"
    }
   ],
   "source": [
    "# 첫 번째 축인 0번 축을 기준으로 슬라이싱되었다. 슬라이스는 축을 따라 선택 영역 내의 원소를 선택한다.\n",
    "# arr2d[:2]는  arr2d의 시작부터 두 번째 행까지 선택하다는 뜻이다.\n",
    "# 색인을 여러 개 넘겨서 다차원을 슬라이싱할 수도 있다.\n",
    "arr2d[:2, 1:]"
   ]
  },
  {
   "cell_type": "code",
   "execution_count": 70,
   "id": "7ed038b8-b58c-4855-b2ce-a878f7d5c178",
   "metadata": {},
   "outputs": [
    {
     "data": {
      "text/plain": [
       "array([4, 5])"
      ]
     },
     "execution_count": 70,
     "metadata": {},
     "output_type": "execute_result"
    }
   ],
   "source": [
    "# 이렇게 슬라이싱하면 항상 동일한 차원의 배열 뷰를 얻게 된다.\n",
    "# 정수 색인과 슬라이스를 함께 사용하면 한 차원 낮은 슬라이스를 얻을 수 있다.\n",
    "# 예를 들어 두 번째 행의 처음 두 열만 선택하고 싶다면 다음과 같이 하면 된다.\n",
    "lower_dim_slice = arr2d[1, :2]\n",
    "lower_dim_slice"
   ]
  },
  {
   "cell_type": "code",
   "execution_count": 71,
   "id": "70b94d58-b736-43a8-9398-4578e1846ade",
   "metadata": {},
   "outputs": [
    {
     "data": {
      "text/plain": [
       "(2,)"
      ]
     },
     "execution_count": 71,
     "metadata": {},
     "output_type": "execute_result"
    }
   ],
   "source": [
    "# 여기서 arr2d는 2차원 배열이지만 lower_dim_slice는 1차원이고 축 크기가 하나인 튜플 모양이다.\n",
    "lower_dim_slice.shape"
   ]
  },
  {
   "cell_type": "code",
   "execution_count": 72,
   "id": "9ff2ab6c-ebcd-443b-84b0-15e1ab79dcb1",
   "metadata": {},
   "outputs": [
    {
     "data": {
      "text/plain": [
       "array([3, 6])"
      ]
     },
     "execution_count": 72,
     "metadata": {},
     "output_type": "execute_result"
    }
   ],
   "source": [
    "# 이와 유사하게 처음 두 행에서 세 번째 열만 선택하고 싶다면 다음처럼 할 수 있다.\n",
    "arr2d[:2, 2]"
   ]
  },
  {
   "cell_type": "code",
   "execution_count": 73,
   "id": "06aee8b3-3262-47bc-be6e-f5e8e9d2fe13",
   "metadata": {},
   "outputs": [
    {
     "data": {
      "text/plain": [
       "array([[1],\n",
       "       [4],\n",
       "       [7]])"
      ]
     },
     "execution_count": 73,
     "metadata": {},
     "output_type": "execute_result"
    }
   ],
   "source": [
    "# 열만 사용하면 전체 축을 선택한다는 의미이므로 원래 차원의 슬라이스를 얻게 된다.\n",
    "arr2d[:, :1]"
   ]
  },
  {
   "cell_type": "code",
   "execution_count": 74,
   "id": "69ccdb38-3b23-43f7-9fc7-f2cdc87fe2fb",
   "metadata": {},
   "outputs": [
    {
     "data": {
      "text/plain": [
       "array([[1, 0, 0],\n",
       "       [4, 0, 0],\n",
       "       [7, 8, 9]])"
      ]
     },
     "execution_count": 74,
     "metadata": {},
     "output_type": "execute_result"
    }
   ],
   "source": [
    "# 슬라이싱 구문에 값을 대입하면 선택 영역 전체에 값이 할당된다.\n",
    "arr2d[:2, 1:] = 0\n",
    "arr2d"
   ]
  },
  {
   "cell_type": "markdown",
   "id": "fe88a742-a707-4f12-ab88-2d7c20a5a573",
   "metadata": {},
   "source": [
    "### 불리언 값으로 선택하기"
   ]
  },
  {
   "cell_type": "code",
   "execution_count": 88,
   "id": "6e96f6c5-183b-458b-ae97-588e64e66632",
   "metadata": {},
   "outputs": [],
   "source": [
    "# 다음과 같이 데이터를 가진 배열이 있고, 이름이 중복된 배열이 있다.\n",
    "names = np.array(['Bob', 'Joe', 'Wil', 'Bob', 'Will', 'Joe', 'Joe'])\n",
    "data = np.array([[4, 7], [0, 2], [-5, 6], [0, 0], [1, 2], [-12, -4], [3, 4]])"
   ]
  },
  {
   "cell_type": "code",
   "execution_count": 89,
   "id": "b65ac88d-0d35-46ae-8cd6-02a5b31ab04e",
   "metadata": {},
   "outputs": [
    {
     "data": {
      "text/plain": [
       "array(['Bob', 'Joe', 'Wil', 'Bob', 'Will', 'Joe', 'Joe'], dtype='<U4')"
      ]
     },
     "execution_count": 89,
     "metadata": {},
     "output_type": "execute_result"
    }
   ],
   "source": [
    "names"
   ]
  },
  {
   "cell_type": "code",
   "execution_count": 90,
   "id": "0da4d295-e7a9-4321-ab50-25ef762cedf2",
   "metadata": {},
   "outputs": [
    {
     "data": {
      "text/plain": [
       "array([[  4,   7],\n",
       "       [  0,   2],\n",
       "       [ -5,   6],\n",
       "       [  0,   0],\n",
       "       [  1,   2],\n",
       "       [-12,  -4],\n",
       "       [  3,   4]])"
      ]
     },
     "execution_count": 90,
     "metadata": {},
     "output_type": "execute_result"
    }
   ],
   "source": [
    "data"
   ]
  },
  {
   "cell_type": "code",
   "execution_count": 91,
   "id": "a61f13d7-2930-4401-b522-e40b8a9f4fc9",
   "metadata": {},
   "outputs": [
    {
     "data": {
      "text/plain": [
       "array([ True, False, False,  True, False, False, False])"
      ]
     },
     "execution_count": 91,
     "metadata": {},
     "output_type": "execute_result"
    }
   ],
   "source": [
    "# 각 이름은 data 배열의 각 행에 대응한다고 자정하자.\n",
    "# 만약 전체 행에서 'Bob'과 동일한 이름을 선택하려면 산술 연산과 마찬가지로 배열에 대한 비교 연산(== 같은)도 벡터화된다.\n",
    "# 따라서 names를 'Bob' 문자열과 비교하면 불리언 배열이 반환된다.\n",
    "names == 'Bob'"
   ]
  },
  {
   "cell_type": "code",
   "execution_count": 92,
   "id": "293c71b4-db51-40ac-82ed-45242283b17c",
   "metadata": {},
   "outputs": [
    {
     "data": {
      "text/plain": [
       "array([[4, 7],\n",
       "       [0, 0]])"
      ]
     },
     "execution_count": 92,
     "metadata": {},
     "output_type": "execute_result"
    }
   ],
   "source": [
    "# 불리언 배열은 배열의 색인으로 사용할 수 있다.\n",
    "data[names == 'Bob']"
   ]
  },
  {
   "cell_type": "code",
   "execution_count": 93,
   "id": "64f10005-b4ef-42a3-ac39-c3bd96297c5c",
   "metadata": {},
   "outputs": [
    {
     "data": {
      "text/plain": [
       "array([[7],\n",
       "       [0]])"
      ]
     },
     "execution_count": 93,
     "metadata": {},
     "output_type": "execute_result"
    }
   ],
   "source": [
    "# 불리언 배열은 반드시 색인하려믄 축의 길이와 길이가 동일해야 한다.\n",
    "# 심지어 불리언 배열을 슬라이스나 정수를 선택하는 데 짜 맞출 수도 있다.\n",
    "# 다음 예제에서 names == 'Bob' 행에서 색인과 열을 함께 선택했다.\n",
    "data[names == 'Bob', 1:]"
   ]
  },
  {
   "cell_type": "code",
   "execution_count": 94,
   "id": "44f86309-f96d-4e6f-b754-e402e17f623e",
   "metadata": {},
   "outputs": [
    {
     "data": {
      "text/plain": [
       "array([False,  True,  True, False,  True,  True,  True])"
      ]
     },
     "execution_count": 94,
     "metadata": {},
     "output_type": "execute_result"
    }
   ],
   "source": [
    "# 'Bob'이 아닌 항목을 모두 선택하려면 != 연산자를 사용하거나 ~를 사용해서 조건부를 부인하면 된다.\n",
    "names != 'Bob'"
   ]
  },
  {
   "cell_type": "code",
   "execution_count": 95,
   "id": "9416ba38-15c5-4dd0-9d09-4e02b7859bbb",
   "metadata": {},
   "outputs": [
    {
     "data": {
      "text/plain": [
       "array([False,  True,  True, False,  True,  True,  True])"
      ]
     },
     "execution_count": 95,
     "metadata": {},
     "output_type": "execute_result"
    }
   ],
   "source": [
    "~(names == 'Bob')"
   ]
  },
  {
   "cell_type": "code",
   "execution_count": 97,
   "id": "b7d08253-fd20-47df-8a74-8811bc2e5979",
   "metadata": {},
   "outputs": [
    {
     "data": {
      "text/plain": [
       "array([[  0,   2],\n",
       "       [ -5,   6],\n",
       "       [  1,   2],\n",
       "       [-12,  -4],\n",
       "       [  3,   4]])"
      ]
     },
     "execution_count": 97,
     "metadata": {},
     "output_type": "execute_result"
    }
   ],
   "source": [
    "data[~(names == 'Bob')]"
   ]
  },
  {
   "cell_type": "code",
   "execution_count": 100,
   "id": "1e740840-392e-4492-a9d4-db299ab281a7",
   "metadata": {},
   "outputs": [
    {
     "data": {
      "text/plain": [
       "array([ True, False, False,  True, False, False, False])"
      ]
     },
     "execution_count": 100,
     "metadata": {},
     "output_type": "execute_result"
    }
   ],
   "source": [
    "# ~ 연산자는 변수가 참조하는 불리언 배열을 뒤집고 싶을 때 유용하다.\n",
    "cond = names == 'Bob'\n",
    "cond"
   ]
  },
  {
   "cell_type": "code",
   "execution_count": 101,
   "id": "4d7342e7-a5b1-4c32-aa8a-480a86d744a1",
   "metadata": {},
   "outputs": [
    {
     "data": {
      "text/plain": [
       "array([[  0,   2],\n",
       "       [ -5,   6],\n",
       "       [  1,   2],\n",
       "       [-12,  -4],\n",
       "       [  3,   4]])"
      ]
     },
     "execution_count": 101,
     "metadata": {},
     "output_type": "execute_result"
    }
   ],
   "source": [
    "data[~cond]"
   ]
  },
  {
   "cell_type": "code",
   "execution_count": 102,
   "id": "5dc544be-8c04-4e6d-ab2d-fee4f8b5bd7f",
   "metadata": {},
   "outputs": [
    {
     "data": {
      "text/plain": [
       "array([ True, False, False,  True,  True, False, False])"
      ]
     },
     "execution_count": 102,
     "metadata": {},
     "output_type": "execute_result"
    }
   ],
   "source": [
    "# 세 가지 이름 중에서 두 가지 이름을 선택하려면 &(and)와 |(or) 같은 논리 연산자를 사용해 여러 개의 불리언 조건을 사용하면 된다.\n",
    "mask = (names == 'Bob') | (names == 'Will')\n",
    "mask"
   ]
  },
  {
   "cell_type": "code",
   "execution_count": 103,
   "id": "d03a70cc-e2bb-45ac-ace8-501d6b6a7470",
   "metadata": {},
   "outputs": [
    {
     "data": {
      "text/plain": [
       "array([[4, 7],\n",
       "       [0, 0],\n",
       "       [1, 2]])"
      ]
     },
     "execution_count": 103,
     "metadata": {},
     "output_type": "execute_result"
    }
   ],
   "source": [
    "data[mask]"
   ]
  },
  {
   "cell_type": "code",
   "execution_count": 104,
   "id": "e412c8d5-26db-4002-8ae2-6912babab983",
   "metadata": {},
   "outputs": [],
   "source": [
    "# 불리언 색인을 이용해 배열의 데이터를 선택하면 반환되는 배열의 내용이 바뀌지 않더라도 항상 데이터 복사가 발생한다.\n",
    "# 파이썬 예약어인 and와 or는 불리언 배열에서 사용할 수 없다. &와 |를 대신 사용하자."
   ]
  },
  {
   "cell_type": "code",
   "execution_count": 105,
   "id": "5917c8ae-9885-4120-a85e-3b674984e098",
   "metadata": {},
   "outputs": [
    {
     "data": {
      "text/plain": [
       "array([[4, 7],\n",
       "       [0, 2],\n",
       "       [0, 6],\n",
       "       [0, 0],\n",
       "       [1, 2],\n",
       "       [0, 0],\n",
       "       [3, 4]])"
      ]
     },
     "execution_count": 105,
     "metadata": {},
     "output_type": "execute_result"
    }
   ],
   "source": [
    "# 불리언 배열에 값을 대입하면 오른쪽에 있는 값을 불리언 배열의 값이 True인 위치로 대체하여 작동한다.\n",
    "# data에 저장된 모든 음수를 0으로 대입하려면 다음과 같이 수행한다.\n",
    "data[data < 0] = 0\n",
    "data"
   ]
  },
  {
   "cell_type": "code",
   "execution_count": 106,
   "id": "8b1d74dd-841e-4ebe-8211-e1918f25efd1",
   "metadata": {},
   "outputs": [
    {
     "data": {
      "text/plain": [
       "array([[7, 7],\n",
       "       [0, 2],\n",
       "       [7, 7],\n",
       "       [7, 7],\n",
       "       [7, 7],\n",
       "       [0, 0],\n",
       "       [3, 4]])"
      ]
     },
     "execution_count": 106,
     "metadata": {},
     "output_type": "execute_result"
    }
   ],
   "source": [
    "# 1차원 불리언 배열을 사용해 전체 행이나 열의 값을 대입할 수 있다.\n",
    "data[names != 'Joe'] = 7\n",
    "data"
   ]
  },
  {
   "cell_type": "code",
   "execution_count": 107,
   "id": "fa88b0d5-468d-4013-b43c-affe53ff6302",
   "metadata": {},
   "outputs": [],
   "source": [
    "# 2차원 데이터의 위와 같은 연산은 판다스에서 처리하는 것이 편리하다."
   ]
  },
  {
   "cell_type": "markdown",
   "id": "1f4dc53d-bf51-4fa3-a8d8-d2967f43801c",
   "metadata": {},
   "source": [
    "### 팬시 색인\n",
    "- 팬시 색인(fancy indexing)은 정수 배열을 사용한 색인을 설명하기 위해 넘파이에서 차용한 단어다."
   ]
  },
  {
   "cell_type": "code",
   "execution_count": 108,
   "id": "c481d420-9a97-4dc0-91e8-5680b548099c",
   "metadata": {},
   "outputs": [
    {
     "data": {
      "text/plain": [
       "array([[0., 0., 0., 0.],\n",
       "       [1., 1., 1., 1.],\n",
       "       [2., 2., 2., 2.],\n",
       "       [3., 3., 3., 3.],\n",
       "       [4., 4., 4., 4.],\n",
       "       [5., 5., 5., 5.],\n",
       "       [6., 6., 6., 6.],\n",
       "       [7., 7., 7., 7.]])"
      ]
     },
     "execution_count": 108,
     "metadata": {},
     "output_type": "execute_result"
    }
   ],
   "source": [
    "# 8 x 4 크기의 배열이 있다고 가정하자.\n",
    "arr = np.zeros((8, 4))\n",
    "\n",
    "for i in range(8):\n",
    "    arr[i] = i\n",
    "\n",
    "arr"
   ]
  },
  {
   "cell_type": "code",
   "execution_count": 109,
   "id": "d738481b-eb70-4348-abdb-ce2ab3ae9597",
   "metadata": {},
   "outputs": [
    {
     "data": {
      "text/plain": [
       "array([[4., 4., 4., 4.],\n",
       "       [3., 3., 3., 3.],\n",
       "       [0., 0., 0., 0.],\n",
       "       [6., 6., 6., 6.]])"
      ]
     },
     "execution_count": 109,
     "metadata": {},
     "output_type": "execute_result"
    }
   ],
   "source": [
    "# 특정한 순서로 행의 하위집합을 선택하고 싶다면 원하는 순서가 명시된 정수가 담긴 ndarray나 리스트를 넘기면 된다.\n",
    "arr[[4, 3, 0, 6]]"
   ]
  },
  {
   "cell_type": "code",
   "execution_count": 112,
   "id": "bd77352c-0779-4913-91b2-d49d665b478e",
   "metadata": {},
   "outputs": [
    {
     "data": {
      "text/plain": [
       "array([[5., 5., 5., 5.],\n",
       "       [3., 3., 3., 3.],\n",
       "       [1., 1., 1., 1.]])"
      ]
     },
     "execution_count": 112,
     "metadata": {},
     "output_type": "execute_result"
    }
   ],
   "source": [
    "# 색인으로 음수를 사용하면 끝에서부터 행을 선택한다.\n",
    "arr[[-3, -5, -7]]"
   ]
  },
  {
   "cell_type": "code",
   "execution_count": 113,
   "id": "04be3bba-2e6a-48b1-b24a-f9e86157973e",
   "metadata": {},
   "outputs": [
    {
     "data": {
      "text/plain": [
       "array([[ 0,  1,  2,  3],\n",
       "       [ 4,  5,  6,  7],\n",
       "       [ 8,  9, 10, 11],\n",
       "       [12, 13, 14, 15],\n",
       "       [16, 17, 18, 19],\n",
       "       [20, 21, 22, 23],\n",
       "       [24, 25, 26, 27],\n",
       "       [28, 29, 30, 31]])"
      ]
     },
     "execution_count": 113,
     "metadata": {},
     "output_type": "execute_result"
    }
   ],
   "source": [
    "# 다차원 색인 배열을 넘기면 조금 다르게 작동한다.\n",
    "# 각 색인 튜플에 대응하는 1차원 배열이 선택된다.\n",
    "arr = np.arange(32).reshape((8, 4))\n",
    "arr"
   ]
  },
  {
   "cell_type": "code",
   "execution_count": 114,
   "id": "ac90142d-be77-49a6-a393-314cdb0f28f4",
   "metadata": {},
   "outputs": [
    {
     "data": {
      "text/plain": [
       "array([ 4, 23, 29, 10])"
      ]
     },
     "execution_count": 114,
     "metadata": {},
     "output_type": "execute_result"
    }
   ],
   "source": [
    "arr[[1, 5, 7, 2], [0, 3, 1, 2]]"
   ]
  },
  {
   "cell_type": "code",
   "execution_count": 116,
   "id": "7883d8be-f67b-453a-83b4-90705007e470",
   "metadata": {},
   "outputs": [
    {
     "data": {
      "text/plain": [
       "array([[ 4,  7,  5,  6],\n",
       "       [20, 23, 21, 22],\n",
       "       [28, 31, 29, 30],\n",
       "       [ 8, 11,  9, 10]])"
      ]
     },
     "execution_count": 116,
     "metadata": {},
     "output_type": "execute_result"
    }
   ],
   "source": [
    "# 결과를 살펴보면 (1, 0), (5, 3), (7, 1), (2, 2)에 대응하는 원소가 선택되었다.\n",
    "# 배열이 몇 차원이든지(여기서는 2차원) 팬시 색인의 결과는 항상 1차원이다.\n",
    "# 즉, 행렬의 행과 열에 대응하는 사각형 모양의 값이 선택되기를 기대했지만, 팬시 색인이 예상과 조금 다르게 작동했다.\n",
    "# 우리가 예상한 것처럼 만들려면 아래처럼 수행하면된다.\n",
    "arr[[1, 5, 7, 2]][:, [0, 3, 1, 2]]"
   ]
  },
  {
   "cell_type": "code",
   "execution_count": 117,
   "id": "f255f51a-5872-4eb2-b037-b242e32b7299",
   "metadata": {},
   "outputs": [
    {
     "data": {
      "text/plain": [
       "array([ 4, 23, 29, 10])"
      ]
     },
     "execution_count": 117,
     "metadata": {},
     "output_type": "execute_result"
    }
   ],
   "source": [
    "# 팬시 색인은 슬라이싱과 달리 선택된 데이터를 새로운 배열로 복사한다.\n",
    "# 팬시 색인으로 값을 대입하면 색인된 값이 변경된다.\n",
    "arr[[1, 5, 7, 2], [0, 3, 1, 2]]"
   ]
  },
  {
   "cell_type": "code",
   "execution_count": 118,
   "id": "47d19abc-9cc3-4694-ae55-318c6a788936",
   "metadata": {},
   "outputs": [
    {
     "data": {
      "text/plain": [
       "array([[ 0,  1,  2,  3],\n",
       "       [ 0,  5,  6,  7],\n",
       "       [ 8,  9,  0, 11],\n",
       "       [12, 13, 14, 15],\n",
       "       [16, 17, 18, 19],\n",
       "       [20, 21, 22,  0],\n",
       "       [24, 25, 26, 27],\n",
       "       [28,  0, 30, 31]])"
      ]
     },
     "execution_count": 118,
     "metadata": {},
     "output_type": "execute_result"
    }
   ],
   "source": [
    "arr[[1, 5, 7, 2], [0, 3, 1, 2]] = 0\n",
    "arr"
   ]
  },
  {
   "cell_type": "markdown",
   "id": "96af8bb7-a4cf-4d36-af28-7704171d1b8f",
   "metadata": {},
   "source": [
    "### 배열 전치와 축 바꾸기\n",
    "- 배열 전치(transpose)는 데이터를 복사하지 않고 데이터의 모양이 바뀐 뷰를 반환하는 특별한 기능이다.\n",
    "- adarray는 transpose 메서드와 T 라는 이름의 특수한 속성을 갖는다."
   ]
  },
  {
   "cell_type": "code",
   "execution_count": 119,
   "id": "9ed6b74e-1ad8-47aa-acd8-a291255c7a0f",
   "metadata": {},
   "outputs": [
    {
     "data": {
      "text/plain": [
       "array([[ 0,  1,  2,  3,  4],\n",
       "       [ 5,  6,  7,  8,  9],\n",
       "       [10, 11, 12, 13, 14]])"
      ]
     },
     "execution_count": 119,
     "metadata": {},
     "output_type": "execute_result"
    }
   ],
   "source": [
    "arr = np.arange(15).reshape((3, 5))\n",
    "arr"
   ]
  },
  {
   "cell_type": "code",
   "execution_count": 120,
   "id": "225a360a-54be-4a32-b4f2-40b3a7e0acd4",
   "metadata": {},
   "outputs": [
    {
     "data": {
      "text/plain": [
       "array([[ 0,  5, 10],\n",
       "       [ 1,  6, 11],\n",
       "       [ 2,  7, 12],\n",
       "       [ 3,  8, 13],\n",
       "       [ 4,  9, 14]])"
      ]
     },
     "execution_count": 120,
     "metadata": {},
     "output_type": "execute_result"
    }
   ],
   "source": [
    "arr.T"
   ]
  },
  {
   "cell_type": "code",
   "execution_count": 124,
   "id": "b890fe65-0706-4c7e-af2e-8226dfe98959",
   "metadata": {},
   "outputs": [
    {
     "data": {
      "text/plain": [
       "array([[ 0,  1,  0],\n",
       "       [ 1,  2, -2],\n",
       "       [ 6,  3,  2],\n",
       "       [-1,  0, -1],\n",
       "       [ 1,  0,  1]])"
      ]
     },
     "execution_count": 124,
     "metadata": {},
     "output_type": "execute_result"
    }
   ],
   "source": [
    "# 행렬을 계산할 때 자주 사용하게 될 행렬의 내적은 numpy.dot을 이용해서 구한다.\n",
    "arr = np.array([[0, 1, 0], [1, 2, -2], [6, 3, 2], [-1, 0, -1], [1, 0, 1]])\n",
    "arr"
   ]
  },
  {
   "cell_type": "code",
   "execution_count": 125,
   "id": "b8b271de-3366-4eb9-bfa5-645b0a426205",
   "metadata": {},
   "outputs": [
    {
     "data": {
      "text/plain": [
       "array([[39, 20, 12],\n",
       "       [20, 14,  2],\n",
       "       [12,  2, 10]])"
      ]
     },
     "execution_count": 125,
     "metadata": {},
     "output_type": "execute_result"
    }
   ],
   "source": [
    "np.dot(arr.T, arr)"
   ]
  },
  {
   "cell_type": "code",
   "execution_count": 126,
   "id": "904a971b-257f-4dcc-beb5-752b767aab2b",
   "metadata": {},
   "outputs": [
    {
     "data": {
      "text/plain": [
       "array([[39, 20, 12],\n",
       "       [20, 14,  2],\n",
       "       [12,  2, 10]])"
      ]
     },
     "execution_count": 126,
     "metadata": {},
     "output_type": "execute_result"
    }
   ],
   "source": [
    "# @ 연산자는 행렬 곱셈을 수행하는 또 다른 방법이다.\n",
    "arr.T @ arr"
   ]
  },
  {
   "cell_type": "code",
   "execution_count": 127,
   "id": "e58544b0-5818-4d8b-b2a1-9a1b4dc4355f",
   "metadata": {},
   "outputs": [
    {
     "data": {
      "text/plain": [
       "array([[ 0,  1,  0],\n",
       "       [ 1,  2, -2],\n",
       "       [ 6,  3,  2],\n",
       "       [-1,  0, -1],\n",
       "       [ 1,  0,  1]])"
      ]
     },
     "execution_count": 127,
     "metadata": {},
     "output_type": "execute_result"
    }
   ],
   "source": [
    "# .T 속성을 이용하는 간단한 전치는 축을 뒤바꾸는 특별한 경우다.\n",
    "# ndarray에는 swqapaxes라는 메서드를 통해 두 개의 축 번호를 받아서 배열을 뒤바꾼다.\n",
    "arr"
   ]
  },
  {
   "cell_type": "code",
   "execution_count": 128,
   "id": "29147480-6601-4517-9e07-ffcc9b6f58e8",
   "metadata": {},
   "outputs": [
    {
     "data": {
      "text/plain": [
       "array([[ 0,  1,  6, -1,  1],\n",
       "       [ 1,  2,  3,  0,  0],\n",
       "       [ 0, -2,  2, -1,  1]])"
      ]
     },
     "execution_count": 128,
     "metadata": {},
     "output_type": "execute_result"
    }
   ],
   "source": [
    "arr.swapaxes(0, 1)"
   ]
  },
  {
   "cell_type": "markdown",
   "id": "06e9eed6-2c43-41d1-9065-874f871f0083",
   "metadata": {},
   "source": [
    "### 난수 생성\n",
    "- numpy.random 모듈은 파이썬 내장 random 모듈을 보강해 다양한 종류의 확률분표로부터 효과적으로 표본값을 생성하는 데 주로 사용한다.\n",
    "- 예를 들어 numpy.random.standard_normal을 사용해 표준정규분포부터 4 x 4 크기의 표본을 생성할 수 있다."
   ]
  },
  {
   "cell_type": "code",
   "execution_count": 135,
   "id": "7cb61627-6131-490f-b465-4528906d194a",
   "metadata": {},
   "outputs": [
    {
     "data": {
      "text/plain": [
       "array([[-0.39653949, -0.13866144,  0.34685189, -0.77917265],\n",
       "       [ 0.95904392, -0.01487121,  0.74928599, -0.20351174],\n",
       "       [-0.44922086,  1.20987561,  0.81472848, -0.31642879],\n",
       "       [-0.0719638 ,  2.21920548,  0.1407791 ,  1.27966334]])"
      ]
     },
     "execution_count": 135,
     "metadata": {},
     "output_type": "execute_result"
    }
   ],
   "source": [
    "samples = np.random.standard_normal(size=(4, 4))\n",
    "samples"
   ]
  },
  {
   "cell_type": "code",
   "execution_count": 137,
   "id": "d6d2babd-7dea-4675-9555-f370045d6c82",
   "metadata": {},
   "outputs": [
    {
     "name": "stdout",
     "output_type": "stream",
     "text": [
      "1.17 s ± 11.3 ms per loop (mean ± std. dev. of 7 runs, 1 loop each)\n"
     ]
    }
   ],
   "source": [
    "# 이와 대조적으로 파있너 내장 random 모듈은 한 번에 하나의 값만 생성한다.\n",
    "# 다음 성능 비교에서 확인할 수 있듯이 numpy.random은 매우 큰 표본을 생성하지만 파이썬 내장 모듈보다 수십배 이상 빠르다.\n",
    "from random import normalvariate\n",
    "\n",
    "N = 1_000_000\n",
    "\n",
    "%timeit samples = [normalvariate(0, 1) for _ in range(N)]"
   ]
  },
  {
   "cell_type": "code",
   "execution_count": 138,
   "id": "a4cafff9-c8d9-4ecd-a423-4e9b90ce44b0",
   "metadata": {},
   "outputs": [
    {
     "name": "stdout",
     "output_type": "stream",
     "text": [
      "21.1 ms ± 272 µs per loop (mean ± std. dev. of 7 runs, 10 loops each)\n"
     ]
    }
   ],
   "source": [
    "%timeit np.random.standard_normal(N)"
   ]
  },
  {
   "cell_type": "code",
   "execution_count": 140,
   "id": "aaf90552-8039-4ac6-a89a-73c8a85886d4",
   "metadata": {},
   "outputs": [
    {
     "data": {
      "text/plain": [
       "array([[-1.42382504,  1.26372846, -0.87066174],\n",
       "       [-0.25917323, -0.07534331, -0.74088465]])"
      ]
     },
     "execution_count": 140,
     "metadata": {},
     "output_type": "execute_result"
    }
   ],
   "source": [
    "# 난수는 엄밀하게 말하자면 진정한 난수가 아니며 유사난수(pseudorandom)라고 부른다.\n",
    "# 난수 생성기의 시드(seed) 값에 따라 정해진 난수를 알고리듬으로 생성하기 때문이다.\n",
    "# numpy.random.standard_normal 같은 함수는 numpy.random 모듈의 기본 난수 생성기를 사용하지만\n",
    "# 사용할 생성기를 명시적으로 설정할 수 있다.\n",
    "rng = np.random.default_rng(seed=12345)\n",
    "data = rng.standard_normal((2, 3))\n",
    "data"
   ]
  },
  {
   "cell_type": "code",
   "execution_count": 141,
   "id": "f5f808f1-eabb-4572-aebe-5800d8cea6c7",
   "metadata": {},
   "outputs": [
    {
     "data": {
      "text/plain": [
       "numpy.random._generator.Generator"
      ]
     },
     "execution_count": 141,
     "metadata": {},
     "output_type": "execute_result"
    }
   ],
   "source": [
    "# seed 인수는 난수 생성기의 초기 상태를 결정하며 rng 객체가 데이터를 생성할 때마다 상태가 변경된다.\n",
    "# 생성기 객체인 rng는 numpy.random 모듈을 사용할 수 있는 다른 코드와도 분리되어 있다.\n",
    "type(rng)"
   ]
  },
  {
   "cell_type": "markdown",
   "id": "351fcc8d-e11c-47a0-8e75-23f673e95f8d",
   "metadata": {},
   "source": [
    "### 유니버설 함수: 배열의 각 원소를 빠르게 처리하는 함수\n",
    "- ufunc라고도 부르는 유니버설(universal) 함수는 ndarray 안의 데이터 원소별로 연산을 수행하는 함수다.\n",
    "- 유니버설 함수는 하나 이상의 스칼라 값을 받아서 하나 이상의 스칼라 결과값을 반환하는\n",
    "- 간단한 함수를 빠르게 수행하는 벡터화된 래퍼 함수라고 생각하면 된다."
   ]
  },
  {
   "cell_type": "code",
   "execution_count": 143,
   "id": "f1445ca4-5ada-402b-a7f3-c89520da45ce",
   "metadata": {},
   "outputs": [
    {
     "data": {
      "text/plain": [
       "array([0, 1, 2, 3, 4, 5, 6, 7, 8, 9])"
      ]
     },
     "execution_count": 143,
     "metadata": {},
     "output_type": "execute_result"
    }
   ],
   "source": [
    "# 많은 ufunc는 numpy.sqrt나 numpy.exp 같은 간단한 변경을 전체 원소에 적용할 수 있다.\n",
    "arr = np.arange(10)\n",
    "arr"
   ]
  },
  {
   "cell_type": "code",
   "execution_count": 144,
   "id": "1e72b81a-f2c6-40b3-836a-13a4e1e4dfb1",
   "metadata": {},
   "outputs": [
    {
     "data": {
      "text/plain": [
       "array([0.        , 1.        , 1.41421356, 1.73205081, 2.        ,\n",
       "       2.23606798, 2.44948974, 2.64575131, 2.82842712, 3.        ])"
      ]
     },
     "execution_count": 144,
     "metadata": {},
     "output_type": "execute_result"
    }
   ],
   "source": [
    "np.sqrt(arr)"
   ]
  },
  {
   "cell_type": "code",
   "execution_count": 145,
   "id": "31cbb02f-bc6d-4c52-aba3-ed727bddcfa1",
   "metadata": {},
   "outputs": [
    {
     "data": {
      "text/plain": [
       "array([1.00000000e+00, 2.71828183e+00, 7.38905610e+00, 2.00855369e+01,\n",
       "       5.45981500e+01, 1.48413159e+02, 4.03428793e+02, 1.09663316e+03,\n",
       "       2.98095799e+03, 8.10308393e+03])"
      ]
     },
     "execution_count": 145,
     "metadata": {},
     "output_type": "execute_result"
    }
   ],
   "source": [
    "np.exp(arr)"
   ]
  },
  {
   "cell_type": "code",
   "execution_count": 146,
   "id": "37c68592-56de-4420-adbc-33a6c57401dc",
   "metadata": {},
   "outputs": [
    {
     "data": {
      "text/plain": [
       "array([-1.3677927 ,  0.6488928 ,  0.36105811, -1.95286306,  2.34740965,\n",
       "        0.96849691, -0.75938718,  0.90219827])"
      ]
     },
     "execution_count": 146,
     "metadata": {},
     "output_type": "execute_result"
    }
   ],
   "source": [
    "# 위의 두 함수들은 단항(unary) 유니버설 함수다.\n",
    "# numpy.add나 numpy.maximum 처럼 2개의 매개변수를 취해서 단일 배열을 반환하는 함수는 이항(binary) 유니버설 함수다.\n",
    "x = rng.standard_normal(8)\n",
    "y = rng.standard_normal(8)\n",
    "x"
   ]
  },
  {
   "cell_type": "code",
   "execution_count": 147,
   "id": "a04e502e-6578-4038-8d87-7708f05b0005",
   "metadata": {},
   "outputs": [
    {
     "data": {
      "text/plain": [
       "array([-0.46695317, -0.06068952,  0.78884434, -1.25666813,  0.57585751,\n",
       "        1.39897899,  1.32229806, -0.29969852])"
      ]
     },
     "execution_count": 147,
     "metadata": {},
     "output_type": "execute_result"
    }
   ],
   "source": [
    "y"
   ]
  },
  {
   "cell_type": "code",
   "execution_count": 148,
   "id": "e2bfbc0e-ca4a-4abd-95f3-6ac86351dc28",
   "metadata": {},
   "outputs": [
    {
     "data": {
      "text/plain": [
       "array([-0.46695317,  0.6488928 ,  0.78884434, -1.25666813,  2.34740965,\n",
       "        1.39897899,  1.32229806,  0.90219827])"
      ]
     },
     "execution_count": 148,
     "metadata": {},
     "output_type": "execute_result"
    }
   ],
   "source": [
    "np.maximum(x, y)"
   ]
  },
  {
   "cell_type": "code",
   "execution_count": 149,
   "id": "e2f2c444-a668-4814-aa34-e83769c60647",
   "metadata": {},
   "outputs": [
    {
     "data": {
      "text/plain": [
       "array([ 4.51459671, -8.10791367, -0.7909463 ,  2.24741966, -6.71800536,\n",
       "       -0.40843795,  8.62369966])"
      ]
     },
     "execution_count": 149,
     "metadata": {},
     "output_type": "execute_result"
    }
   ],
   "source": [
    "# 위 예제에서 mumpy.maximum은 x와 y의 원소별로 가장 큰 값을 계산한다.\n",
    "# 여러 개의 배열을 반환하는 유니버설 함수도 있다.\n",
    "# numpy.modf는 파이썬 내장 함수인 math.modf의 벡터화 버전이며 분수를 받아서 몫과 나머지를 함께 반환한다.\n",
    "arr = rng.standard_normal(7) * 5\n",
    "arr"
   ]
  },
  {
   "cell_type": "code",
   "execution_count": 150,
   "id": "24148efe-17f8-486f-9e1c-e9c72b0ee0ae",
   "metadata": {},
   "outputs": [
    {
     "data": {
      "text/plain": [
       "array([ 0.51459671, -0.10791367, -0.7909463 ,  0.24741966, -0.71800536,\n",
       "       -0.40843795,  0.62369966])"
      ]
     },
     "execution_count": 150,
     "metadata": {},
     "output_type": "execute_result"
    }
   ],
   "source": [
    "remainder, whole_part = np.modf(arr)\n",
    "remainder"
   ]
  },
  {
   "cell_type": "code",
   "execution_count": 151,
   "id": "b211932b-7b9f-4aa7-9848-3ead9abc8ab6",
   "metadata": {},
   "outputs": [
    {
     "data": {
      "text/plain": [
       "array([ 4., -8., -0.,  2., -6., -0.,  8.])"
      ]
     },
     "execution_count": 151,
     "metadata": {},
     "output_type": "execute_result"
    }
   ],
   "source": [
    "whole_part"
   ]
  },
  {
   "cell_type": "code",
   "execution_count": 152,
   "id": "c4f62736-f95a-4cf8-861e-08a5a477d5cd",
   "metadata": {},
   "outputs": [
    {
     "data": {
      "text/plain": [
       "array([ 4.51459671, -8.10791367, -0.7909463 ,  2.24741966, -6.71800536,\n",
       "       -0.40843795,  8.62369966])"
      ]
     },
     "execution_count": 152,
     "metadata": {},
     "output_type": "execute_result"
    }
   ],
   "source": [
    "# 유니버설 함수는 선택적으로 out 인수를 사용해 계산 결과를 새로운 배열로 만들지 않고 기존 배열에 할다할 수도 있다.\n",
    "arr"
   ]
  },
  {
   "cell_type": "code",
   "execution_count": 154,
   "id": "3ad924df-5796-46ce-a695-872d342b6d27",
   "metadata": {},
   "outputs": [
    {
     "data": {
      "text/plain": [
       "array([ 5.51459671, -7.10791367,  0.2090537 ,  3.24741966, -5.71800536,\n",
       "        0.59156205,  9.62369966])"
      ]
     },
     "execution_count": 154,
     "metadata": {},
     "output_type": "execute_result"
    }
   ],
   "source": [
    "out = np.zeros_like(arr)\n",
    "np.add(arr, 1)"
   ]
  },
  {
   "cell_type": "code",
   "execution_count": 155,
   "id": "d540600f-d3bc-4b52-816f-f3a6ddb08db5",
   "metadata": {},
   "outputs": [
    {
     "data": {
      "text/plain": [
       "array([ 5.51459671, -7.10791367,  0.2090537 ,  3.24741966, -5.71800536,\n",
       "        0.59156205,  9.62369966])"
      ]
     },
     "execution_count": 155,
     "metadata": {},
     "output_type": "execute_result"
    }
   ],
   "source": [
    "np.add(arr, 1, out=out)"
   ]
  },
  {
   "cell_type": "code",
   "execution_count": 156,
   "id": "88e0090b-3128-46b1-9840-9353e52133a5",
   "metadata": {},
   "outputs": [
    {
     "data": {
      "text/plain": [
       "array([ 5.51459671, -7.10791367,  0.2090537 ,  3.24741966, -5.71800536,\n",
       "        0.59156205,  9.62369966])"
      ]
     },
     "execution_count": 156,
     "metadata": {},
     "output_type": "execute_result"
    }
   ],
   "source": [
    "out"
   ]
  },
  {
   "cell_type": "code",
   "execution_count": null,
   "id": "e27120a2-87b9-4f7d-a7ee-be098ebf5e28",
   "metadata": {},
   "outputs": [],
   "source": []
  }
 ],
 "metadata": {
  "kernelspec": {
   "display_name": "Python 3 (ipykernel)",
   "language": "python",
   "name": "python3"
  },
  "language_info": {
   "codemirror_mode": {
    "name": "ipython",
    "version": 3
   },
   "file_extension": ".py",
   "mimetype": "text/x-python",
   "name": "python",
   "nbconvert_exporter": "python",
   "pygments_lexer": "ipython3",
   "version": "3.11.7"
  }
 },
 "nbformat": 4,
 "nbformat_minor": 5
}
